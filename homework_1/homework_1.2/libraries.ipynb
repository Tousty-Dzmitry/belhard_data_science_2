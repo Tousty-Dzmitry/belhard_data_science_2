{
 "cells": [
  {
   "cell_type": "code",
   "execution_count": null,
   "id": "d581fb92-4b1c-4a98-952e-d15fc0544384",
   "metadata": {},
   "outputs": [],
   "source": []
  },
  {
   "cell_type": "code",
   "execution_count": 1,
   "id": "671c90cb-8257-4896-9f44-96889d093551",
   "metadata": {},
   "outputs": [
    {
     "name": "stdout",
     "output_type": "stream",
     "text": [
      "Collecting missingno\n",
      "  Downloading missingno-0.5.2-py3-none-any.whl.metadata (639 bytes)\n",
      "Requirement already satisfied: numpy in /home/dzmitry/.pyenv/versions/3.10.0/lib/python3.10/site-packages (from missingno) (2.1.3)\n",
      "Requirement already satisfied: matplotlib in /home/dzmitry/.pyenv/versions/3.10.0/lib/python3.10/site-packages (from missingno) (3.10.1)\n",
      "Requirement already satisfied: scipy in /home/dzmitry/.pyenv/versions/3.10.0/lib/python3.10/site-packages (from missingno) (1.15.2)\n",
      "Requirement already satisfied: seaborn in /home/dzmitry/.pyenv/versions/3.10.0/lib/python3.10/site-packages (from missingno) (0.13.2)\n",
      "Requirement already satisfied: contourpy>=1.0.1 in /home/dzmitry/.pyenv/versions/3.10.0/lib/python3.10/site-packages (from matplotlib->missingno) (1.3.1)\n",
      "Requirement already satisfied: cycler>=0.10 in /home/dzmitry/.pyenv/versions/3.10.0/lib/python3.10/site-packages (from matplotlib->missingno) (0.12.1)\n",
      "Requirement already satisfied: fonttools>=4.22.0 in /home/dzmitry/.pyenv/versions/3.10.0/lib/python3.10/site-packages (from matplotlib->missingno) (4.56.0)\n",
      "Requirement already satisfied: kiwisolver>=1.3.1 in /home/dzmitry/.pyenv/versions/3.10.0/lib/python3.10/site-packages (from matplotlib->missingno) (1.4.8)\n",
      "Requirement already satisfied: packaging>=20.0 in /home/dzmitry/.pyenv/versions/3.10.0/lib/python3.10/site-packages (from matplotlib->missingno) (24.2)\n",
      "Requirement already satisfied: pillow>=8 in /home/dzmitry/.pyenv/versions/3.10.0/lib/python3.10/site-packages (from matplotlib->missingno) (11.1.0)\n",
      "Requirement already satisfied: pyparsing>=2.3.1 in /home/dzmitry/.pyenv/versions/3.10.0/lib/python3.10/site-packages (from matplotlib->missingno) (3.2.3)\n",
      "Requirement already satisfied: python-dateutil>=2.7 in /home/dzmitry/.pyenv/versions/3.10.0/lib/python3.10/site-packages (from matplotlib->missingno) (2.9.0.post0)\n",
      "Requirement already satisfied: six>=1.5 in /home/dzmitry/.pyenv/versions/3.10.0/lib/python3.10/site-packages (from python-dateutil>=2.7->matplotlib->missingno) (1.17.0)\n",
      "Requirement already satisfied: pandas>=1.2 in /home/dzmitry/.pyenv/versions/3.10.0/lib/python3.10/site-packages (from seaborn->missingno) (2.2.3)\n",
      "Requirement already satisfied: pytz>=2020.1 in /home/dzmitry/.pyenv/versions/3.10.0/lib/python3.10/site-packages (from pandas>=1.2->seaborn->missingno) (2025.2)\n",
      "Requirement already satisfied: tzdata>=2022.7 in /home/dzmitry/.pyenv/versions/3.10.0/lib/python3.10/site-packages (from pandas>=1.2->seaborn->missingno) (2025.2)\n",
      "Downloading missingno-0.5.2-py3-none-any.whl (8.7 kB)\n",
      "Installing collected packages: missingno\n",
      "Successfully installed missingno-0.5.2\n",
      "Note: you may need to restart the kernel to use updated packages.\n"
     ]
    }
   ],
   "source": [
    "pip install missingno"
   ]
  },
  {
   "cell_type": "code",
   "execution_count": 3,
   "id": "ac614632-bf8c-4a53-a020-3e7498fee262",
   "metadata": {},
   "outputs": [],
   "source": []
  },
  {
   "cell_type": "code",
   "execution_count": null,
   "id": "c5126eb7-c845-4db2-90cd-bcf1b8861888",
   "metadata": {},
   "outputs": [],
   "source": []
  }
 ],
 "metadata": {
  "kernelspec": {
   "display_name": "Python 3 (ipykernel)",
   "language": "python",
   "name": "python3"
  },
  "language_info": {
   "codemirror_mode": {
    "name": "ipython",
    "version": 3
   },
   "file_extension": ".py",
   "mimetype": "text/x-python",
   "name": "python",
   "nbconvert_exporter": "python",
   "pygments_lexer": "ipython3",
   "version": "3.10.0"
  }
 },
 "nbformat": 4,
 "nbformat_minor": 5
}
